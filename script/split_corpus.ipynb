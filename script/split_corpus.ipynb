{
 "cells": [
  {
   "cell_type": "code",
   "execution_count": 10,
   "metadata": {},
   "outputs": [],
   "source": [
    "from sklearn.model_selection import train_test_split\n",
    "import pandas as pd\n",
    "import json"
   ]
  },
  {
   "cell_type": "code",
   "execution_count": 18,
   "metadata": {},
   "outputs": [
    {
     "name": "stdout",
     "output_type": "stream",
     "text": [
      "Training data saved to ../data/clean//train_data.json\n",
      "Testing data saved to ../data/clean/test_data.json\n"
     ]
    }
   ],
   "source": [
    "# Load the JSON data\n",
    "with open('../data/raw/scraped_data.json', 'r') as file:\n",
    "    data = json.load(file)\n",
    "df = pd.DataFrame(data)[['title', 'content']]\n",
    "\n",
    "\n",
    "train_df, test_df = train_test_split(df, test_size=0.2, random_state=42)\n",
    "\n",
    "\n",
    "train_json_path = '../data/clean//train_data.json'\n",
    "test_json_path = '../data/clean/test_data.json'\n",
    "\n",
    "train_df.to_json(train_json_path, orient='records', indent=4)\n",
    "test_df.to_json(test_json_path, orient='records', indent=4)\n",
    "\n",
    "print(f'Training data saved to {train_json_path}')\n",
    "print(f'Testing data saved to {test_json_path}')\n"
   ]
  }
 ],
 "metadata": {
  "kernelspec": {
   "display_name": "extra-info",
   "language": "python",
   "name": "python3"
  },
  "language_info": {
   "codemirror_mode": {
    "name": "ipython",
    "version": 3
   },
   "file_extension": ".py",
   "mimetype": "text/x-python",
   "name": "python",
   "nbconvert_exporter": "python",
   "pygments_lexer": "ipython3",
   "version": "3.9.18"
  },
  "orig_nbformat": 4
 },
 "nbformat": 4,
 "nbformat_minor": 2
}
