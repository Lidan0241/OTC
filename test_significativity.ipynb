{
 "cells": [
  {
   "cell_type": "code",
   "execution_count": 24,
   "metadata": {},
   "outputs": [],
   "source": [
    "import pandas as pd\n",
    "import numpy as np\n",
    "from scipy.stats import pearsonr, spearmanr\n",
    "import matplotlib as plt\n",
    "import matplotlib.pyplot as plt\n"
   ]
  },
  {
   "cell_type": "code",
   "execution_count": 25,
   "metadata": {},
   "outputs": [
    {
     "name": "stdout",
     "output_type": "stream",
     "text": [
      "[20, 16, 12, 16, 14, 18, 14, 23, 20, 19, 19, 13, 11, 19, 12, 17, 16, 18, 20, 21, 21, 23, 28, 13]\n",
      "[462, 230, 468, 579, 312, 332, 448, 431, 523, 414, 164, 465, 356, 232, 404, 401, 353, 1278, 534, 393, 393, 206, 853, 658]\n"
     ]
    }
   ],
   "source": [
    "df = pd.read_csv('dataframe.csv')\n",
    "title_length = df['title_word_count'].tolist()\n",
    "content_length = df['content_word_count'].tolist()\n",
    "print(title_length)\n",
    "print(content_length)"
   ]
  },
  {
   "cell_type": "code",
   "execution_count": 26,
   "metadata": {},
   "outputs": [
    {
     "name": "stdout",
     "output_type": "stream",
     "text": [
      "Corrélation de Pearson: 0.13192096998464664 P-value: 0.5389031371406416\n",
      "Corrélation de Spearman: -0.02182944522501424 P-value: 0.9193561727161963\n"
     ]
    }
   ],
   "source": [
    "# coefficient de corrélation de Pearson\n",
    "pearson_corr, pearson_pvalue = pearsonr(title_length, content_length)\n",
    "print(\"Corrélation de Pearson:\", pearson_corr, \"P-value:\", pearson_pvalue)\n",
    "\n",
    "# coefficient de corrélation de Spearman\n",
    "spearman_corr, spearman_pvalue = spearmanr(title_length, content_length)\n",
    "print(\"Corrélation de Spearman:\", spearman_corr, \"P-value:\", spearman_pvalue)"
   ]
  }
 ],
 "metadata": {
  "kernelspec": {
   "display_name": "extra-info",
   "language": "python",
   "name": "python3"
  },
  "language_info": {
   "codemirror_mode": {
    "name": "ipython",
    "version": 3
   },
   "file_extension": ".py",
   "mimetype": "text/x-python",
   "name": "python",
   "nbconvert_exporter": "python",
   "pygments_lexer": "ipython3",
   "version": "3.9.18"
  },
  "orig_nbformat": 4
 },
 "nbformat": 4,
 "nbformat_minor": 2
}
