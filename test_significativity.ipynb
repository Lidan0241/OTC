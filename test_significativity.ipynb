{
 "cells": [
  {
   "cell_type": "code",
   "execution_count": 1,
   "metadata": {},
   "outputs": [],
   "source": [
    "import pandas as pd\n",
    "import numpy as np\n",
    "from scipy.stats import pearsonr, spearmanr\n",
    "import matplotlib as plt\n",
    "from sklearn.metrics.pairwise import cosine_similarity\n",
    "import matplotlib.pyplot as plt\n",
    "from sklearn.feature_extraction.text import TfidfVectorizer\n",
    "from scipy.spatial.distance import cosine\n",
    "import gensim\n",
    "from gensim.test.utils import common_texts\n",
    "from gensim.models import Word2Vec\n",
    "from gensim.models import KeyedVectors\n",
    "\n"
   ]
  },
  {
   "cell_type": "code",
   "execution_count": 2,
   "metadata": {},
   "outputs": [
    {
     "name": "stdout",
     "output_type": "stream",
     "text": [
      "[17, 12, 11, 12, 12, 15, 17, 9, 13, 10, 11, 9, 11, 11, 14, 12, 16, 12, 12, 19, 16, 13, 11, 16, 11, 12, 17, 13, 11, 22, 11, 14, 21, 10, 18, 10, 13, 17, 11, 14, 15, 12, 14, 11, 15, 13, 13, 11, 14, 15, 15, 17, 13, 12, 15, 9, 21, 11, 16, 12, 14, 15, 18, 19, 15, 8, 17, 16, 13, 16, 13, 18, 11, 17, 14, 16, 22, 16, 10, 15]\n",
      "[421, 336, 645, 293, 658, 667, 811, 320, 337, 481, 1286, 492, 818, 454, 739, 531, 352, 439, 343, 440, 403, 479, 613, 753, 645, 526, 1447, 675, 469, 351, 350, 430, 873, 425, 1202, 523, 1252, 421, 594, 528, 800, 323, 1466, 610, 467, 425, 847, 478, 386, 461, 1166, 644, 594, 1566, 489, 638, 746, 815, 753, 1085, 351, 713, 712, 1060, 831, 414, 789, 753, 437, 546, 505, 819, 594, 607, 1067, 834, 351, 607, 523, 816]\n",
      "['World', 'Crime', 'World', 'Politics', 'U.S.', 'U.S.', 'World', 'Local News', 'Sports', 'HealthWatch', 'HealthWatch', 'HealthWatch', 'HealthWatch', 'HealthWatch', 'HealthWatch', 'Sports', 'Sports', 'Sports', 'Crime', 'Crime', 'Crime', 'Local', 'Local', 'Politics', 'World', 'World', 'World', 'HealthWatch', 'MoneyWatch', 'MoneyWatch', 'Local News', 'Politics', 'World', 'Local News', 'U.S.', 'Politics', 'World', 'World', 'MoneyWatch', 'HealthWatch', 'Local News', 'Local News', 'Politics', 'MoneyWatch', 'MoneyWatch', 'Local News', 'Politics', 'MoneyWatch', 'HealthWatch', 'HealthWatch', 'HealthWatch', 'Sports', 'Crime', 'MoneyWatch', 'Politics', 'MoneyWatch', 'MoneyWatch', 'U.S.', 'Politics', 'Politics', 'Crime', 'U.S.', 'World', 'HealthWatch', 'Politics', 'Politics', 'Politics', 'Politics', 'Politics', 'Politics', 'Politics', 'HealthWatch', 'MoneyWatch', 'HealthWatch', 'World', 'U.S.', 'MoneyWatch', 'HealthWatch', 'Politics', 'U.S.']\n",
      "['cbs', 'alnaji', 'aid', 'israel', 'usa', 'fire', 'temperature', 'boston', 'season', 'food', 'body', 'probiotic', 'school', 'people', 'weight', 'patriot', 'patriot', 'may', 'cbs', 'police', 'mexico', 'say', 'mosquito', 'say', 'aid', 'say', 'say', 'patient', 'nissan', 'audio', 'cbs', 'menendez', 'heat', 'health', 'storm', 'marijuana', 'gaza', 'cbs', 'market', 'use', 'fire', 'cbs', 'senator', 'mcdonald', 'range', 'police', 'say', 'red', 'death', 'health', 'care', 'bronco', 'depape', 'say', 'trump', 'mercede', 'board', 'gun', 'say', 'election', 'people', 'mask', 'specie', 'skin', 'house', 'campaign', 'maryland', 'say', 'trump', 'officer', 'trump', 'say', 'market', 'sleep', 'aid', 'scheffler', 'audio', 'cbs', 'marijuana', 'department']\n"
     ]
    }
   ],
   "source": [
    "df = pd.read_csv('dataframe.csv')\n",
    "title_length = df['title_word_count'].tolist()\n",
    "content_length = df['content_word_count'].tolist()\n",
    "theme_list = df['theme'].tolist()\n",
    "frequent_word_list = df['frequent_word'].tolist()\n",
    "print(title_length)\n",
    "print(content_length)\n",
    "print(theme_list)\n",
    "print(frequent_word_list)"
   ]
  },
  {
   "cell_type": "code",
   "execution_count": 3,
   "metadata": {},
   "outputs": [
    {
     "name": "stdout",
     "output_type": "stream",
     "text": [
      "Corrélation de Pearson: 0.16107514173960094 P-value: 0.15347488664573083\n",
      "Corrélation de Spearman: 0.22307997307277894 P-value: 0.04669829088738556\n"
     ]
    }
   ],
   "source": [
    "# coefficient de corrélation de Pearson\n",
    "pearson_corr, pearson_pvalue = pearsonr(title_length, content_length)\n",
    "print(\"Corrélation de Pearson:\", pearson_corr, \"P-value:\", pearson_pvalue)\n",
    "\n",
    "# coefficient de corrélation de Spearman\n",
    "spearman_corr, spearman_pvalue = spearmanr(title_length, content_length)\n",
    "print(\"Corrélation de Spearman:\", spearman_corr, \"P-value:\", spearman_pvalue)\n",
    "\n",
    "# il n'y donc pas de corrélation entre la longueur de résumé et la longueur de contenu des articles."
   ]
  },
  {
   "cell_type": "code",
   "execution_count": 4,
   "metadata": {},
   "outputs": [],
   "source": [
    "model = Word2Vec(sentences=common_texts, vector_size=100, window=5, min_count=1, workers=4)\n",
    "model.save(\"word2vec.model\")"
   ]
  },
  {
   "cell_type": "code",
   "execution_count": 5,
   "metadata": {},
   "outputs": [
    {
     "ename": "TypeError",
     "evalue": "argument of type 'Word2Vec' is not iterable",
     "output_type": "error",
     "traceback": [
      "\u001b[0;31m---------------------------------------------------------------------------\u001b[0m",
      "\u001b[0;31mTypeError\u001b[0m                                 Traceback (most recent call last)",
      "\u001b[1;32m/Users/lydia/Desktop/OTC-projet/test_significativity.ipynb Cell 5\u001b[0m line \u001b[0;36m7\n\u001b[1;32m      <a href='vscode-notebook-cell:/Users/lydia/Desktop/OTC-projet/test_significativity.ipynb#W4sZmlsZQ%3D%3D?line=4'>5</a>\u001b[0m \u001b[39mfor\u001b[39;00m theme \u001b[39min\u001b[39;00m theme_list:\n\u001b[1;32m      <a href='vscode-notebook-cell:/Users/lydia/Desktop/OTC-projet/test_significativity.ipynb#W4sZmlsZQ%3D%3D?line=5'>6</a>\u001b[0m     \u001b[39mfor\u001b[39;00m word \u001b[39min\u001b[39;00m frequent_word_list:\n\u001b[0;32m----> <a href='vscode-notebook-cell:/Users/lydia/Desktop/OTC-projet/test_significativity.ipynb#W4sZmlsZQ%3D%3D?line=6'>7</a>\u001b[0m         \u001b[39mif\u001b[39;00m theme \u001b[39min\u001b[39;49;00m model \u001b[39mand\u001b[39;00m word \u001b[39min\u001b[39;00m model:\n\u001b[1;32m      <a href='vscode-notebook-cell:/Users/lydia/Desktop/OTC-projet/test_significativity.ipynb#W4sZmlsZQ%3D%3D?line=7'>8</a>\u001b[0m             similarity \u001b[39m=\u001b[39m model\u001b[39m.\u001b[39msimilarity(theme, word)\n\u001b[1;32m      <a href='vscode-notebook-cell:/Users/lydia/Desktop/OTC-projet/test_significativity.ipynb#W4sZmlsZQ%3D%3D?line=8'>9</a>\u001b[0m             \u001b[39mprint\u001b[39m(\u001b[39mf\u001b[39m\u001b[39m\"\u001b[39m\u001b[39msimilarité entre \u001b[39m\u001b[39m{\u001b[39;00mtheme\u001b[39m}\u001b[39;00m\u001b[39m et \u001b[39m\u001b[39m{\u001b[39;00mword\u001b[39m}\u001b[39;00m\u001b[39m: \u001b[39m\u001b[39m{\u001b[39;00msimilarity\u001b[39m:\u001b[39;00m\u001b[39m.4f\u001b[39m\u001b[39m}\u001b[39;00m\u001b[39m\"\u001b[39m)\n",
      "\u001b[0;31mTypeError\u001b[0m: argument of type 'Word2Vec' is not iterable"
     ]
    }
   ],
   "source": [
    "# loading a pretrained model for word2vec\n",
    "#model = KeyedVectors.load_word2vec_format(\"./model_word2vec.bin\", binary=True, unicode_errors=\"ignore\")\n",
    "\n",
    "# conversion vecteurs + calcul similarité cosine\n",
    "for theme in theme_list:\n",
    "    for word in frequent_word_list:\n",
    "        if theme in model and word in model:\n",
    "            similarity = model.similarity(theme, word)\n",
    "            print(f\"similarité entre {theme} et {word}: {similarity:.4f}\")\n",
    "        else:\n",
    "            print(f\"One of the words, {theme} or {word}, is not in the vocabulary.\")\n"
   ]
  },
  {
   "cell_type": "code",
   "execution_count": null,
   "metadata": {},
   "outputs": [],
   "source": [
    "pearson_corr, pearson_pvalue = pearsonr(title_length, content_length)"
   ]
  }
 ],
 "metadata": {
  "kernelspec": {
   "display_name": "extra-info",
   "language": "python",
   "name": "python3"
  },
  "language_info": {
   "codemirror_mode": {
    "name": "ipython",
    "version": 3
   },
   "file_extension": ".py",
   "mimetype": "text/x-python",
   "name": "python",
   "nbconvert_exporter": "python",
   "pygments_lexer": "ipython3",
   "version": "3.9.18"
  },
  "orig_nbformat": 4
 },
 "nbformat": 4,
 "nbformat_minor": 2
}
