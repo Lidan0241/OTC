{
 "cells": [
  {
   "cell_type": "code",
   "execution_count": 1,
   "metadata": {},
   "outputs": [],
   "source": [
    "from sklearn.model_selection import train_test_split\n",
    "import pandas as pd"
   ]
  },
  {
   "cell_type": "code",
   "execution_count": 5,
   "metadata": {},
   "outputs": [],
   "source": [
    "corpus = pd.read_json('./data/clean/cleaned_data.json')\n",
    "\n",
    "corpus_filtered = []\n",
    "for item in corpus:\n",
    "    if isinstance(item, dict) and 'title' in item and 'content' in item:\n",
    "        corpus_filtered.append({'title': item['title'], 'content': item['content']})\n",
    "        \n",
    "train_set, test_set = split_corpus(corpus, test_size=0.2, random_state=42)\n"
   ]
  },
  {
   "cell_type": "code",
   "execution_count": 7,
   "metadata": {},
   "outputs": [
    {
     "name": "stdout",
     "output_type": "stream",
     "text": [
      "Number of training samples: 70\n",
      "Number of testing samples: 18\n"
     ]
    }
   ],
   "source": [
    "# Print the number of items in each set\n",
    "print(f\"Number of training samples: {len(train_set)}\")\n",
    "print(f\"Number of testing samples: {len(test_set)}\")"
   ]
  }
 ],
 "metadata": {
  "kernelspec": {
   "display_name": "extra-info",
   "language": "python",
   "name": "python3"
  },
  "language_info": {
   "codemirror_mode": {
    "name": "ipython",
    "version": 3
   },
   "file_extension": ".py",
   "mimetype": "text/x-python",
   "name": "python",
   "nbconvert_exporter": "python",
   "pygments_lexer": "ipython3",
   "version": "3.9.18"
  },
  "orig_nbformat": 4
 },
 "nbformat": 4,
 "nbformat_minor": 2
}
