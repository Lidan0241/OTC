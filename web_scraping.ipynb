{
 "cells": [
  {
   "cell_type": "code",
   "execution_count": 2,
   "metadata": {},
   "outputs": [],
   "source": [
    "import requests\n",
    "import json\n",
    "from bs4 import BeautifulSoup"
   ]
  },
  {
   "cell_type": "code",
   "execution_count": 3,
   "metadata": {},
   "outputs": [],
   "source": [
    "url = \"https://www.lemonde.fr/societe/article/2024/04/27/manifestation-propalestinienne-a-sciences-po-paris-il-n-y-aura-jamais-de-droit-au-blocage-affirme-gabriel-attal_6230325_3224.html\"\n",
    "\n",
    "def scrape_article(url):\n",
    "    response = requests.get(url)\n",
    "    response.raise_for_status() \n",
    "\n",
    "    soup = BeautifulSoup(response.text, 'html.parser')\n",
    "\n",
    "    title = soup.find('h1').get_text(strip=True)\n",
    "\n",
    "    article_content = soup.find_all('p', class_=\"article__paragraph\")\n",
    "    content = '\\n'.join([p.get_text(strip=True) for p in article_content])\n",
    "\n",
    "\n",
    "    return title, content"
   ]
  },
  {
   "cell_type": "code",
   "execution_count": 4,
   "metadata": {},
   "outputs": [
    {
     "name": "stdout",
     "output_type": "stream",
     "text": [
      "Title: Manifestation propalestinienne à Sciences Po Paris : « Il n’y aura jamais de droit au blocage », affirme Gabriel Attal\n",
      "Content: Le premier ministre, Gabriel Attal, a affirmé samedi 27 avril qu’il« n’y aura[it]jamais de droit au blocage »dans les universités, au lendemain d’une mobilisation propalestinienne tendue à Sciences Po Paris, conclue par un accord entre manifestants et direction.« Il n’y aura jamais de droit au blocage, jamais de tolérance avec l’action d’une minorité agissante et dangereuse qui cherche à imposer ses règles à nos étudiants et nos enseignants », a déclaré M. Attal à l’occasion d’un déplacement à Pirou, dans la Manche.\n",
      "Le premier ministre a déploré« le spectacle navrant et choquant »du blocage et de l’occupation partielle de l’établissement parisien par des manifestants propalestiniens vendredi, qui a tourné au face-à-face tendu avec d’autres manifestants pro-Israël.\n",
      "La situation s’est cependant apaisée dans la soirée, lorsque la direction a annoncé la suspension de procédures disciplinaires et l’organisation d’un débat interne la semaine suivante.« Pour qu’il y ait du débat, il faut que les règles soient respectées »et« ce n’est pas ce qu’on a vu hier », a estimé M. Attal, accusant« une minorité agitée par des forces politiques notamment La France insoumise[LFI]»de« chercher à perturber le fonctionnement de cette institution ».\n",
      "La ministre de l’enseignement supérieur, Sylvie Retailleau, a, de son côté,« remercié »la direction de Sciences Po après l’accord qui a mis fin au mouvement dans cet établissement,« qui doit rester un lieu d’études, de respect et de débat serein ».\n",
      "Mais le patron des Républicains, Eric Ciotti, y a vu une« soumission insupportable », car la direction de Sciences Po« se couche face aux revendications intolérables des étudiants bloqueurs d’extrême gauche »,a-t-il affirmé sur X.\n",
      "Par ailleurs la Ligue internationale contre le racisme et l’antisémitisme a déploré avoir dû déplacer à l’hôtel de ville de Reims sa convention nationale prévue pour samedi sur le site de Sciences Po à Reims, en raison d’un blocage du campus en soutien à la cause palestinienne.Dénonçant sur Xun blocage organisé« par des étudiants soutenus par »des élus LFI, elle a critiqué des« méthodes liberticides »et« inacceptables ».\n",
      "Du côté des syndicats d’étudiants, l’Union étudiante a appelé dans un communiqué à« intensifier dès lundi la mobilisation sur les lieux d’études ».\n",
      "Dénonçant un« tournant autoritaire »du premier ministre, l’Union nationale des étudiants de France a appelé dans un autre communiqué la jeunesse« à se mobiliser et à se saisir de ses lieux d’études sous toutes les formes qu’elle considère[comme]légitimes pour dénoncer les tentatives de musellement ».\n",
      "Le président de l’université de Strasbourg, Michel Deneken, a toutefois estimé que« les universités françaises, contrairement à ce qu’on pourrait lire ou entendre, ne sont pas à feu et à sang ».« Notre mission est de laisser le débat contradictoire s’instaurer, dans la paix, l’échange académique, mais pas dans la vocifération ou la récupération politique », a-t-il ajouté sur RMC.\n",
      "\n"
     ]
    }
   ],
   "source": [
    "title, content = scrape_article(url)\n",
    "print(\"Title:\", title)\n",
    "print(\"Content:\", content)"
   ]
  },
  {
   "cell_type": "code",
   "execution_count": 5,
   "metadata": {},
   "outputs": [],
   "source": [
    "article_data = {\n",
    "    \"title\": title,\n",
    "    \"content\": content\n",
    "}\n",
    "\n",
    "with open('article_data.json', 'w', encoding='utf-8') as json_file:\n",
    "    json.dump(article_data, json_file, ensure_ascii=False, indent=4)"
   ]
  }
 ],
 "metadata": {
  "kernelspec": {
   "display_name": "extra-info",
   "language": "python",
   "name": "python3"
  },
  "language_info": {
   "codemirror_mode": {
    "name": "ipython",
    "version": 3
   },
   "file_extension": ".py",
   "mimetype": "text/x-python",
   "name": "python",
   "nbconvert_exporter": "python",
   "pygments_lexer": "ipython3",
   "version": "3.9.18"
  },
  "orig_nbformat": 4
 },
 "nbformat": 4,
 "nbformat_minor": 2
}
