{
 "cells": [
  {
   "cell_type": "code",
   "execution_count": 16,
   "metadata": {},
   "outputs": [],
   "source": [
    "import requests\n",
    "import json\n",
    "import time\n",
    "from bs4 import BeautifulSoup\n",
    "from urllib.parse import urlparse, parse_qs"
   ]
  },
  {
   "cell_type": "code",
   "execution_count": 17,
   "metadata": {},
   "outputs": [],
   "source": [
    "def read_urls(file_path):\n",
    "    with open(file_path, 'r') as file:\n",
    "        return [line.strip() for line in file if line.strip()]"
   ]
  },
  {
   "cell_type": "code",
   "execution_count": 18,
   "metadata": {},
   "outputs": [],
   "source": [
    "def scrape_article(url):\n",
    "    try:\n",
    "        headers = {'User-Agent': 'Mozilla/5.0 (Windows NT 10.0; Win64; x64) AppleWebKit/537.36 (KHTML, like Gecko) Chrome/58.0.3029.110 Safari/537.3'}\n",
    "        response = requests.get(url, headers=headers)\n",
    "        response.raise_for_status()\n",
    "\n",
    "        \n",
    "        soup = BeautifulSoup(response.text, 'html.parser')\n",
    "\n",
    "        \n",
    "        # titre\n",
    "        title = soup.find('h1', class_=\"content__title\")\n",
    "        title = title.get_text(strip=True)\n",
    "        \n",
    "        # contenu\n",
    "        article_content = soup.find_all('p')\n",
    "        content = '\\n'.join([p.get_text(strip=True) for p in article_content])\n",
    "\n",
    "        # thème\n",
    "        theme = soup.find('a', class_=\"is-topic\")\n",
    "        theme = theme.get_text(strip=True)\n",
    "\n",
    "        # topic\n",
    "        tags_ul = soup.find('ul', class_='content__tags')\n",
    "        tags = []\n",
    "        if tags_ul:\n",
    "            for li in tags_ul.find_all('li'):\n",
    "                # trouver  <a> dans <li>\n",
    "                a_tag = li.find('a')\n",
    "                if a_tag:\n",
    "                    tags.append(a_tag.get_text(strip=True))\n",
    "  \n",
    "        return {\"url\": url, \"title\": title, \"theme\": theme, \"content\": content, \"topic\": tags}\n",
    "        \n",
    "    except Exception as e:\n",
    "        print(f\"Failed to scrape {url}: {str(e)}\")\n",
    "        return None"
   ]
  },
  {
   "cell_type": "code",
   "execution_count": 19,
   "metadata": {},
   "outputs": [
    {
     "name": "stdout",
     "output_type": "stream",
     "text": [
      "Failed to scrape https://www.cbsnews.com/video/how-ai-powered-robots-are-helping-small-farms-fight-labor-shortages/: 'NoneType' object has no attribute 'get_text'\n"
     ]
    }
   ],
   "source": [
    "def main():\n",
    "    file_path = './urls_en.txt'\n",
    "    urls = read_urls(file_path)\n",
    "    articles = []\n",
    "    for url in urls:\n",
    "        article = scrape_article(url)\n",
    "        if article:\n",
    "            articles.append(article)\n",
    "        time.sleep(0.1)  \n",
    "    with open('scraped_data.json', 'w', encoding='utf-8') as json_file:\n",
    "        json.dump(articles, json_file, ensure_ascii=False, indent=4)\n",
    "\n",
    "if __name__ == \"__main__\":\n",
    "    main()"
   ]
  }
 ],
 "metadata": {
  "kernelspec": {
   "display_name": "extra-info",
   "language": "python",
   "name": "python3"
  },
  "language_info": {
   "codemirror_mode": {
    "name": "ipython",
    "version": 3
   },
   "file_extension": ".py",
   "mimetype": "text/x-python",
   "name": "python",
   "nbconvert_exporter": "python",
   "pygments_lexer": "ipython3",
   "version": "3.9.18"
  },
  "orig_nbformat": 4
 },
 "nbformat": 4,
 "nbformat_minor": 2
}
