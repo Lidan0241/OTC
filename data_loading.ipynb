{
 "cells": [
  {
   "cell_type": "code",
   "execution_count": 4,
   "metadata": {},
   "outputs": [],
   "source": [
    "import pandas as pd\n",
    "import csv"
   ]
  },
  {
   "cell_type": "code",
   "execution_count": 8,
   "metadata": {},
   "outputs": [],
   "source": [
    "with open('data/test.src.cleaned', 'r', encoding='utf-8') as file:\n",
    "    articles = file.readlines()\n",
    "\n",
    "with open('data/test.tgt', 'r', encoding='utf-8') as file:\n",
    "    summaries = file.readlines()\n",
    "\n",
    "articles = [line.strip() for line in articles]\n",
    "summaries = [line.strip() for line in summaries]\n",
    "\n",
    "# create dataframes\n",
    "articles_df = pd.DataFrame(articles, columns=['document'])\n",
    "summaries_df = pd.DataFrame(summaries, columns=['summary'])\n"
   ]
  },
  {
   "cell_type": "code",
   "execution_count": 10,
   "metadata": {},
   "outputs": [
    {
     "name": "stdout",
     "output_type": "stream",
     "text": [
      "                                            document  \\\n",
      "0  GOP Eyes Gains As Voters In 11 States Pick Gov...   \n",
      "1  NEWLINE_CHAR NEWLINE_CHAR NEWLINE_CHAR NEWLINE...   \n",
      "2  It's the Golden State's latest version of the ...   \n",
      "3  The seed for this crawl was a list of every ho...   \n",
      "4  After a year in which liberals scored impressi...   \n",
      "\n",
      "                                             summary  \n",
      "0  – It's a race for the governor's mansion in 11...  \n",
      "1  – It turns out Facebook is only guilty of abou...  \n",
      "2  – Not a big fan of Southern California? Neithe...  \n",
      "3  – Why did Microsoft buy Nokia's phone business...  \n",
      "4  – The Supreme Court is facing a docket of high...  \n"
     ]
    }
   ],
   "source": [
    "combined_df = pd.concat([articles_df, summaries_df], axis=1)\n",
    "\n",
    "print(combined_df.head())\n"
   ]
  }
 ],
 "metadata": {
  "kernelspec": {
   "display_name": "extra-info",
   "language": "python",
   "name": "python3"
  },
  "language_info": {
   "codemirror_mode": {
    "name": "ipython",
    "version": 3
   },
   "file_extension": ".py",
   "mimetype": "text/x-python",
   "name": "python",
   "nbconvert_exporter": "python",
   "pygments_lexer": "ipython3",
   "version": "3.9.18"
  },
  "orig_nbformat": 4
 },
 "nbformat": 4,
 "nbformat_minor": 2
}
