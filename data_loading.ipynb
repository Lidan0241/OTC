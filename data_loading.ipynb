{
 "cells": [
  {
   "cell_type": "code",
   "execution_count": 6,
   "metadata": {},
   "outputs": [],
   "source": [
    "import pandas as pd\n",
    "import csv\n",
    "from datasets import load_dataset"
   ]
  },
  {
   "cell_type": "code",
   "execution_count": 18,
   "metadata": {},
   "outputs": [],
   "source": [
    "with open('data/train.src.cleaned', 'r', encoding='utf-8') as file:\n",
    "    articles = file.readlines()\n",
    "\n",
    "with open('data/train.tgt', 'r', encoding='utf-8') as file:\n",
    "    summaries = file.readlines()\n",
    "\n",
    "articles = [line.strip() for line in articles]\n",
    "summaries = [line.strip() for line in summaries]\n",
    "\n",
    "# create dataframes\n",
    "articles_df = pd.DataFrame(articles, columns=['document'])\n",
    "summaries_df = pd.DataFrame(summaries, columns=['summary'])\n"
   ]
  },
  {
   "cell_type": "code",
   "execution_count": 19,
   "metadata": {},
   "outputs": [
    {
     "name": "stdout",
     "output_type": "stream",
     "text": [
      "                                            document  \\\n",
      "0  National Archives NEWLINE_CHAR NEWLINE_CHAR Ye...   \n",
      "1  LOS ANGELES (AP) — In her first interview sinc...   \n",
      "2  GAITHERSBURG, Md. (AP) — A small, private jet ...   \n",
      "3  Tucker Carlson Exposes His Own Sexism on Twitt...   \n",
      "4  A man accused of removing another man's testic...   \n",
      "\n",
      "                                             summary  \n",
      "0  – The unemployment rate dropped to 8.2% last m...  \n",
      "1  – Shelly Sterling plans \"eventually\" to divorc...  \n",
      "2  – A twin-engine Embraer jet that the FAA descr...  \n",
      "3  – Tucker Carlson is in deep doodoo with conser...  \n",
      "4  – What are the three most horrifying words in ...  \n"
     ]
    }
   ],
   "source": [
    "combined_df = pd.concat([articles_df, summaries_df], axis=1)\n",
    "\n",
    "print(combined_df.head())"
   ]
  },
  {
   "cell_type": "code",
   "execution_count": 15,
   "metadata": {},
   "outputs": [],
   "source": [
    "# par librairie datasets de huggingface\n",
    "dataset = load_dataset(\"multi_news\")\n",
    "train_df = dataset['train'].to_pandas()"
   ]
  },
  {
   "cell_type": "code",
   "execution_count": 16,
   "metadata": {},
   "outputs": [
    {
     "data": {
      "text/html": [
       "<div>\n",
       "<style scoped>\n",
       "    .dataframe tbody tr th:only-of-type {\n",
       "        vertical-align: middle;\n",
       "    }\n",
       "\n",
       "    .dataframe tbody tr th {\n",
       "        vertical-align: top;\n",
       "    }\n",
       "\n",
       "    .dataframe thead th {\n",
       "        text-align: right;\n",
       "    }\n",
       "</style>\n",
       "<table border=\"1\" class=\"dataframe\">\n",
       "  <thead>\n",
       "    <tr style=\"text-align: right;\">\n",
       "      <th></th>\n",
       "      <th>document</th>\n",
       "      <th>summary</th>\n",
       "    </tr>\n",
       "  </thead>\n",
       "  <tbody>\n",
       "    <tr>\n",
       "      <th>0</th>\n",
       "      <td>National Archives \\n \\n Yes, it’s that time ag...</td>\n",
       "      <td>– The unemployment rate dropped to 8.2% last m...</td>\n",
       "    </tr>\n",
       "    <tr>\n",
       "      <th>1</th>\n",
       "      <td>LOS ANGELES (AP) — In her first interview sinc...</td>\n",
       "      <td>– Shelly Sterling plans \"eventually\" to divorc...</td>\n",
       "    </tr>\n",
       "    <tr>\n",
       "      <th>2</th>\n",
       "      <td>GAITHERSBURG, Md. (AP) — A small, private jet ...</td>\n",
       "      <td>– A twin-engine Embraer jet that the FAA descr...</td>\n",
       "    </tr>\n",
       "    <tr>\n",
       "      <th>3</th>\n",
       "      <td>Tucker Carlson Exposes His Own Sexism on Twitt...</td>\n",
       "      <td>– Tucker Carlson is in deep doodoo with conser...</td>\n",
       "    </tr>\n",
       "    <tr>\n",
       "      <th>4</th>\n",
       "      <td>A man accused of removing another man's testic...</td>\n",
       "      <td>– What are the three most horrifying words in ...</td>\n",
       "    </tr>\n",
       "    <tr>\n",
       "      <th>...</th>\n",
       "      <td>...</td>\n",
       "      <td>...</td>\n",
       "    </tr>\n",
       "    <tr>\n",
       "      <th>44967</th>\n",
       "      <td>More than 670,000 copies of the Pearls’ self-p...</td>\n",
       "      <td>– The deaths of three children have been linke...</td>\n",
       "    </tr>\n",
       "    <tr>\n",
       "      <th>44968</th>\n",
       "      <td>Seeking out cost-conscious consumers who have ...</td>\n",
       "      <td>– Apple is hoping its new, cheaper iPhone can ...</td>\n",
       "    </tr>\n",
       "    <tr>\n",
       "      <th>44969</th>\n",
       "      <td>Click to email this to a friend (Opens in new ...</td>\n",
       "      <td>– January Jones, who plays the beleaguered wif...</td>\n",
       "    </tr>\n",
       "    <tr>\n",
       "      <th>44970</th>\n",
       "      <td>BARRINGTON, R.I. (AP) — Women clad in yoga pan...</td>\n",
       "      <td>– A Rhode Island man who penned a letter to th...</td>\n",
       "    </tr>\n",
       "    <tr>\n",
       "      <th>44971</th>\n",
       "      <td>Based on a ‘real’ story, the hit John Travolta...</td>\n",
       "      <td>– The Guardian revisits a fascinating piece of...</td>\n",
       "    </tr>\n",
       "  </tbody>\n",
       "</table>\n",
       "<p>44972 rows × 2 columns</p>\n",
       "</div>"
      ],
      "text/plain": [
       "                                                document  \\\n",
       "0      National Archives \\n \\n Yes, it’s that time ag...   \n",
       "1      LOS ANGELES (AP) — In her first interview sinc...   \n",
       "2      GAITHERSBURG, Md. (AP) — A small, private jet ...   \n",
       "3      Tucker Carlson Exposes His Own Sexism on Twitt...   \n",
       "4      A man accused of removing another man's testic...   \n",
       "...                                                  ...   \n",
       "44967  More than 670,000 copies of the Pearls’ self-p...   \n",
       "44968  Seeking out cost-conscious consumers who have ...   \n",
       "44969  Click to email this to a friend (Opens in new ...   \n",
       "44970  BARRINGTON, R.I. (AP) — Women clad in yoga pan...   \n",
       "44971  Based on a ‘real’ story, the hit John Travolta...   \n",
       "\n",
       "                                                 summary  \n",
       "0      – The unemployment rate dropped to 8.2% last m...  \n",
       "1      – Shelly Sterling plans \"eventually\" to divorc...  \n",
       "2      – A twin-engine Embraer jet that the FAA descr...  \n",
       "3      – Tucker Carlson is in deep doodoo with conser...  \n",
       "4      – What are the three most horrifying words in ...  \n",
       "...                                                  ...  \n",
       "44967  – The deaths of three children have been linke...  \n",
       "44968  – Apple is hoping its new, cheaper iPhone can ...  \n",
       "44969  – January Jones, who plays the beleaguered wif...  \n",
       "44970  – A Rhode Island man who penned a letter to th...  \n",
       "44971  – The Guardian revisits a fascinating piece of...  \n",
       "\n",
       "[44972 rows x 2 columns]"
      ]
     },
     "execution_count": 16,
     "metadata": {},
     "output_type": "execute_result"
    }
   ],
   "source": [
    "train_df"
   ]
  }
 ],
 "metadata": {
  "kernelspec": {
   "display_name": "extra-info",
   "language": "python",
   "name": "python3"
  },
  "language_info": {
   "codemirror_mode": {
    "name": "ipython",
    "version": 3
   },
   "file_extension": ".py",
   "mimetype": "text/x-python",
   "name": "python",
   "nbconvert_exporter": "python",
   "pygments_lexer": "ipython3",
   "version": "3.9.18"
  },
  "orig_nbformat": 4
 },
 "nbformat": 4,
 "nbformat_minor": 2
}
